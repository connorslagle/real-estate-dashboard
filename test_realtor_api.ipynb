{
 "cells": [
  {
   "cell_type": "code",
   "execution_count": 1,
   "metadata": {},
   "outputs": [],
   "source": [
    "import requests\n",
    "import os\n",
    "import pprint\n",
    "import json\n",
    "import csv"
   ]
  },
  {
   "cell_type": "code",
   "execution_count": 2,
   "metadata": {},
   "outputs": [],
   "source": [
    "def listings_query(city=\"Denver\", limit='200'):\n",
    "    '''\n",
    "    Query Realtor listings API using RapidAPI\n",
    "    '''\n",
    "    url = \"https://realtor.p.rapidapi.com/properties/v2/list-for-sale\"\n",
    "    querystring = {\"city\":city,\"limit\":limit,\"offset\":\"0\",\"state_code\":\"CO\",\"sort\":\"relevance\"}\n",
    "    api_key = os.environ['RAPID_API_KEY_REALTOR']\n",
    "\n",
    "    headers = {\n",
    "        'x-rapidapi-key': api_key,\n",
    "        'x-rapidapi-host': \"realtor.p.rapidapi.com\"\n",
    "        }\n",
    "    \n",
    "    response = requests.request(\"GET\", url, headers=headers, params=querystring)\n",
    "    return response"
   ]
  },
  {
   "cell_type": "code",
   "execution_count": 4,
   "metadata": {},
   "outputs": [],
   "source": [
    "response = listings_query()"
   ]
  },
  {
   "cell_type": "code",
   "execution_count": 8,
   "metadata": {},
   "outputs": [],
   "source": [
    "with open('listings_api_test.json', 'a') as outfile:\n",
    "    json.dump(response.json(), outfile)\n",
    "    outfile.write('\\n')"
   ]
  },
  {
   "cell_type": "code",
   "execution_count": 3,
   "metadata": {},
   "outputs": [],
   "source": [
    "def details_query(property_id):\n",
    "    '''\n",
    "    Query Realtor details API using RapidAPI, details API\n",
    "    '''\n",
    "    url = \"https://realtor.p.rapidapi.com/properties/v2/detail\"\n",
    "    querystring = {\"property_id\":property_id}\n",
    "    api_key = os.environ['RAPID_API_KEY_REALTOR']\n",
    "\n",
    "    headers = {\n",
    "        'x-rapidapi-key': api_key,\n",
    "        'x-rapidapi-host': \"realtor.p.rapidapi.com\"\n",
    "        }\n",
    "    \n",
    "    response = requests.request(\"GET\", url, headers=headers, params=querystring)\n",
    "    return response"
   ]
  },
  {
   "cell_type": "code",
   "execution_count": 4,
   "metadata": {},
   "outputs": [],
   "source": [
    "test_prop_id = 'M2089833109'\n",
    "response = details_query(test_prop_id)"
   ]
  },
  {
   "cell_type": "code",
   "execution_count": 5,
   "metadata": {},
   "outputs": [],
   "source": [
    "with open('details_api_test.json', 'a') as outfile:\n",
    "    json.dump(response.json(), outfile)\n",
    "    outfile.write('\\n')"
   ]
  },
  {
   "cell_type": "code",
   "execution_count": 6,
   "metadata": {},
   "outputs": [
    {
     "data": {
      "text/plain": [
       "dict_keys(['meta', 'properties'])"
      ]
     },
     "execution_count": 6,
     "metadata": {},
     "output_type": "execute_result"
    }
   ],
   "source": [
    "with open('listings_api_test.json','r') as f:\n",
    "    listings = json.load(f)\n",
    "listings.keys()"
   ]
  },
  {
   "cell_type": "code",
   "execution_count": 7,
   "metadata": {},
   "outputs": [
    {
     "name": "stdout",
     "output_type": "stream",
     "text": [
      "['M2089833109', 'M2555922990', 'M9268162926', 'M2205393757', 'M2988975987', 'M1849905189', 'M2634916698', 'M1757898938', 'M1527331190', 'M2335575770', 'M1025317307', 'M2564893992', 'M1940791748', 'M2014865528', 'M2647361017', 'M1192469580', 'M1851167859', 'M2998632297', 'M9376037777', 'M1389136480', 'M1515497066', 'M9751614322', 'M1932444849', 'M1113882005', 'M2905668232', 'M2910409230', 'M1691874847', 'M2300533189', 'M9087185478', 'M1676116213', 'M9602343673', 'M1941503652', 'M2122743308', 'M2334886090', 'M1113425123', 'M2849544500', 'M9579672071', 'M2436335357', 'M2066709852', 'M1752915758', 'M2599215925', 'M1695655155', 'M2007544219', 'M1481616548', 'M9312574663', 'M1592956515', 'M1971596864', 'M9336139368', 'M1298264715', 'M9072147137', 'M2371249060', 'M1229181608', 'M2927536429', 'M2604472442', 'M2680135604', 'M1812040178', 'M2339408568', 'M1377007590', 'M2269118519', 'M2836052148', 'M2099487984', 'M1253915678', 'M2237799383', 'M1264749062', 'M2935711582', 'M2094078278', 'M2198062853', 'M1465336589', 'M2889617463', 'M2911013709', 'M1477262514', 'M1725587930', 'M2439780271', 'M1111728804', 'M2632121173', 'M2934899252', 'M9569327476', 'M2417335809', 'M1988771631', 'M1689031263', 'M1571556417', 'M1386254224', 'M2364847908', 'M9652297725', 'M1707496034', 'M1543162397', 'M2373138617', 'M2972914365', 'M9747140780', 'M9454032436', 'M2487656642', 'M9362929718', 'M1565896366', 'M1982194913', 'M1842001813', 'M1951261032', 'M9376454715', 'M2016305845', 'M1502105999', 'M1573930065', 'M1341585137', 'M2766876044', 'M1790751694', 'M2293630766', 'M1402587559', 'M9843988176', 'M1053217422', 'M1366525711', 'M2165305753', 'M1472029754', 'M1815090910', 'M2895155933', 'M9690379531', 'M9375708905', 'M9358268770', 'M2274821095', 'M1402605229', 'M1200178189', 'M2899902863', 'M2869744566', 'M1980288572', 'M1288575570', 'M1933350755', 'M1712677467', 'M2763865206', 'M2934617755', 'M2855493812', 'M2686435321', 'M1874393468', 'M9074065951', 'M2567072507', 'M1299392783', 'M1078160383', 'M2726338922', 'M1381504818', 'M1771222263', 'M1814276135', 'M1557970765', 'M2553021474', 'M1094698268', 'M1818917075', 'M2400434957', 'M1674562264', 'M1884260536', 'M2958423508', 'M1265390562', 'M1798246704', 'M2829636966', 'M1427563261', 'M2775998312', 'M1896105814', 'M2517208750', 'M2302795559', 'M1997748629', 'M1368592796', 'M1100145393', 'M1529088284', 'M9639842631', 'M9845108333', 'M2603202802', 'M1402979815', 'M2451200616', 'M1843501041', 'M9029243198', 'M1534401050', 'M2012734613', 'M1043956576', 'M2075698311', 'M2655301168', 'M9017349740', 'M9409893114', 'M2176344785', 'M1521824054', 'M2261476739', 'M9978230098', 'M1770511214', 'M2081074663', 'M1557184571', 'M9571760187', 'M9430391259', 'M9094980014', 'M9486386239', 'M9609597323', 'M9253516559', 'M1450363904', 'M1465280247', 'M2717716488', 'M9960800046', 'M2219055990', 'M2599290397', 'M1692979987', 'M1372959912', 'M1927392455', 'M9858184237', 'M1329675260', 'M2845888769', 'M2205178385', 'M1884442127', 'M2048278801', 'M2142438466']\n"
     ]
    }
   ],
   "source": [
    "property_ids = []\n",
    "for listing in listings.get('properties'):\n",
    "    property_ids.append(listing.get('property_id'))\n",
    "\n",
    "print(property_ids)"
   ]
  },
  {
   "cell_type": "code",
   "execution_count": null,
   "metadata": {},
   "outputs": [],
   "source": [
    "def make_listing_field_file(fname):\n",
    "    with open(fname, 'w', newline='') as csv_file:\n",
    "        fieldnames=[\n",
    "            'property_id',\n",
    "            ''\n",
    "        ]"
   ]
  }
 ],
 "metadata": {
  "kernelspec": {
   "display_name": "Python 3",
   "language": "python",
   "name": "python3"
  },
  "language_info": {
   "codemirror_mode": {
    "name": "ipython",
    "version": 3
   },
   "file_extension": ".py",
   "mimetype": "text/x-python",
   "name": "python",
   "nbconvert_exporter": "python",
   "pygments_lexer": "ipython3",
   "version": "3.7.7"
  }
 },
 "nbformat": 4,
 "nbformat_minor": 4
}
